{
 "cells": [
  {
   "cell_type": "code",
   "execution_count": 1,
   "metadata": {},
   "outputs": [],
   "source": [
    "import numpy as np\n",
    "import torch\n",
    "\n",
    "import matplotlib.pyplot as plt\n",
    "%matplotlib inline\n",
    "\n",
    "import EKFAC"
   ]
  },
  {
   "cell_type": "markdown",
   "metadata": {},
   "source": [
    "## Testing the implementation of Kronecker-factoring for linear layers with bias"
   ]
  },
  {
   "cell_type": "code",
   "execution_count": 2,
   "metadata": {},
   "outputs": [],
   "source": [
    "Nbatch = 10\n",
    "D_in = 2\n",
    "H = 4\n",
    "D_out = 1\n",
    "\n",
    "linear_model = torch.nn.Sequential(\n",
    "    torch.nn.Linear(D_in, D_out, bias=True)\n",
    ")\n",
    "\n",
    "EKFAC_lin = EKFAC.EKFAC(linear_model)\n",
    "\n",
    "W = list(linear_model.parameters())[0]\n",
    "b = list(linear_model.parameters())[1]"
   ]
  },
  {
   "cell_type": "code",
   "execution_count": 3,
   "metadata": {},
   "outputs": [],
   "source": [
    "x = torch.randn(Nbatch, D_in)\n",
    "y = torch.randn(Nbatch, D_out)"
   ]
  },
  {
   "cell_type": "code",
   "execution_count": 4,
   "metadata": {},
   "outputs": [],
   "source": [
    "y_mod = linear_model(x)\n",
    "loss = torch.nn.MSELoss()\n",
    "l = loss(y,y_mod)\n",
    "l.backward()"
   ]
  },
  {
   "cell_type": "code",
   "execution_count": 5,
   "metadata": {},
   "outputs": [
    {
     "data": {
      "text/plain": [
       "{Linear(in_features=2, out_features=1, bias=True): {'grad_wrt_output': tensor([[ 2.1316],\n",
       "          [ 2.1818],\n",
       "          [ 0.2731],\n",
       "          [-2.7090],\n",
       "          [-3.4923],\n",
       "          [ 0.0565],\n",
       "          [ 1.2099],\n",
       "          [ 0.9729],\n",
       "          [-0.9527],\n",
       "          [-0.0302]]), 'input': tensor([[-0.0072,  0.5359,  1.0000],\n",
       "          [-0.9406,  0.8435,  1.0000],\n",
       "          [-0.5916, -0.2597,  1.0000],\n",
       "          [-0.4772, -0.7506,  1.0000],\n",
       "          [ 1.1458,  1.3147,  1.0000],\n",
       "          [ 1.7045, -0.4041,  1.0000],\n",
       "          [ 0.3381,  1.1061,  1.0000],\n",
       "          [ 0.3160,  0.9787,  1.0000],\n",
       "          [-1.5471, -0.1625,  1.0000],\n",
       "          [-0.9177,  0.8845,  1.0000]])}}"
      ]
     },
     "execution_count": 5,
     "metadata": {},
     "output_type": "execute_result"
    }
   ],
   "source": [
    "EKFAC_lin.stored_items"
   ]
  },
  {
   "cell_type": "code",
   "execution_count": 6,
   "metadata": {},
   "outputs": [],
   "source": [
    "h = EKFAC_lin.stored_items[list(EKFAC_lin.stored_items.keys())[0]]['input']"
   ]
  },
  {
   "cell_type": "code",
   "execution_count": 7,
   "metadata": {},
   "outputs": [],
   "source": [
    "delta = EKFAC_lin.stored_items[list(EKFAC_lin.stored_items.keys())[0]]['grad_wrt_output']"
   ]
  },
  {
   "cell_type": "code",
   "execution_count": 8,
   "metadata": {},
   "outputs": [
    {
     "data": {
      "text/plain": [
       "tensor([[-0.2623],\n",
       "        [ 0.2749],\n",
       "        [-0.0358]])"
      ]
     },
     "execution_count": 8,
     "metadata": {},
     "output_type": "execute_result"
    }
   ],
   "source": [
    "h.t() @ delta / Nbatch"
   ]
  },
  {
   "cell_type": "code",
   "execution_count": 9,
   "metadata": {},
   "outputs": [
    {
     "data": {
      "text/plain": [
       "tensor([[-0.2623,  0.2749]])"
      ]
     },
     "execution_count": 9,
     "metadata": {},
     "output_type": "execute_result"
    }
   ],
   "source": [
    "W.grad"
   ]
  },
  {
   "cell_type": "code",
   "execution_count": 10,
   "metadata": {},
   "outputs": [
    {
     "data": {
      "text/plain": [
       "tensor([-0.0358])"
      ]
     },
     "execution_count": 10,
     "metadata": {},
     "output_type": "execute_result"
    }
   ],
   "source": [
    "b.grad"
   ]
  }
 ],
 "metadata": {
  "kernelspec": {
   "display_name": "Python 3",
   "language": "python",
   "name": "python3"
  },
  "language_info": {
   "codemirror_mode": {
    "name": "ipython",
    "version": 3
   },
   "file_extension": ".py",
   "mimetype": "text/x-python",
   "name": "python",
   "nbconvert_exporter": "python",
   "pygments_lexer": "ipython3",
   "version": "3.6.7"
  }
 },
 "nbformat": 4,
 "nbformat_minor": 2
}
